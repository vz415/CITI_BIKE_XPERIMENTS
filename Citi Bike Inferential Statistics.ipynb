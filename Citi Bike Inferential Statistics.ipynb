{
 "cells": [
  {
   "cell_type": "markdown",
   "metadata": {},
   "source": [
    "## Data Analysis - Inferential Statistics\n",
    "There are time series techniques that can be performed on each to retrieve the following components of the time series. These are important aspects of each time series that I will investigate:\n",
    "- Level\n",
    "- Trend\n",
    "- Seasonality\n",
    "- Noise\n",
    "\n",
    "I'll start by assessing the aforementioned qualities on the total demand. This will be a nice introduction to the techniques that I'll be using and how I'll be using them on a more refined scale for each individual station, later. ~~demand per station, which is, how many bikes are leaving a station per day or month. To do by day is to have the foundations for the monthly calculation. Since creating ARIMA models requires ~~\n",
    "\n",
    "We need a stationary time series before we can perform any type of forecasting. These components are necessary for forecasting:\n",
    "- LIST OUT THE NECESSARY REQUIREMENTS from AILEEN NIELSEN'S TALK"
   ]
  },
  {
   "cell_type": "code",
   "execution_count": 2,
   "metadata": {},
   "outputs": [
    {
     "name": "stderr",
     "output_type": "stream",
     "text": [
      "/Users/vincent_zaballa/anaconda3/lib/python3.5/site-packages/statsmodels/compat/pandas.py:56: FutureWarning: The pandas.core.datetools module is deprecated and will be removed in a future version. Please use the pandas.tseries module instead.\n",
      "  from pandas.core import datetools\n"
     ]
    }
   ],
   "source": [
    "%matplotlib inline\n",
    "import pandas as pd\n",
    "import numpy as np\n",
    "import glob\n",
    "import matplotlib.pyplot as plt\n",
    "import seaborn as sns\n",
    "import os\n",
    "# For time series analysis\n",
    "from statsmodels.tsa import stattools"
   ]
  },
  {
   "cell_type": "code",
   "execution_count": 3,
   "metadata": {
    "collapsed": true
   },
   "outputs": [],
   "source": [
    "# Wrangling in one Step\n",
    "# Specify columns to use\n",
    "columns = ['bikeid', 'birth year', 'end station id', \n",
    "           'end station latitude', 'end station longitude', 'end station name',\n",
    "           'gender', 'start station id', 'start station latitude', 'start station longitude',\n",
    "           'start station name', 'starttime', 'stoptime', 'tripduration', 'usertype']\n",
    "\n",
    "# use your path\n",
    "path = r'/Users/vincent_zaballa/Springboard_Assignments/capstone_proj_2/CITI_BIKE/2016_data' \n",
    "all_files = glob.glob(os.path.join(path, \"*.csv\"))\n",
    "\n",
    "# Appending all imported dataframes to empty df\n",
    "frame = pd.DataFrame()\n",
    "list_ = []\n",
    "for file_ in all_files:\n",
    "    df = pd.read_csv(file_, index_col=None, header=0)\n",
    "    list_.append(df)\n",
    "bike_df = pd.concat(list_)\n",
    "\n",
    "# Naming columns for future use\n",
    "bike_df.columns = columns + bike_df.columns[15:].tolist()\n",
    "\n",
    "# Creating left and right dfs\n",
    "right_df = bike_df[bike_df.iloc[:,0].notnull() == False]\n",
    "left_df = bike_df[bike_df.iloc[:,0].notnull() == True]\n",
    "right_df = right_df.dropna(axis=1, how='all')\n",
    "left_df = left_df.dropna(axis=1, how='all')\n",
    "\n",
    "# Convert individual dfs' timestamps\n",
    "# Need to convert two different format dfs to timestamp beforehand to speed things up MASSIVELY\n",
    "right_df.starttime = pd.to_datetime(right_df.starttime, format='%m/%d/%Y %H:%M:%S')\n",
    "right_df.stoptime = pd.to_datetime(right_df.stoptime, format='%m/%d/%Y %H:%M:%S')\n",
    "left_df.starttime = pd.to_datetime(left_df.starttime, format='%Y-%m-%d %H:%M:%S')\n",
    "left_df.stoptime = pd.to_datetime(left_df.stoptime, format='%Y-%m-%d %H:%M:%S')\n",
    "\n",
    "# Combining\n",
    "frames = [right_df, left_df]\n",
    "bike_df = pd.concat(frames, axis=0)"
   ]
  },
  {
   "cell_type": "code",
   "execution_count": 4,
   "metadata": {},
   "outputs": [
    {
     "name": "stderr",
     "output_type": "stream",
     "text": [
      "/Users/vincent_zaballa/anaconda3/lib/python3.5/site-packages/pandas/core/indexing.py:179: SettingWithCopyWarning: \n",
      "A value is trying to be set on a copy of a slice from a DataFrame\n",
      "\n",
      "See the caveats in the documentation: http://pandas.pydata.org/pandas-docs/stable/indexing.html#indexing-view-versus-copy\n",
      "  self._setitem_with_indexer(indexer, value)\n",
      "/Users/vincent_zaballa/anaconda3/lib/python3.5/site-packages/ipykernel/__main__.py:21: SettingWithCopyWarning: \n",
      "A value is trying to be set on a copy of a slice from a DataFrame\n",
      "\n",
      "See the caveats in the documentation: http://pandas.pydata.org/pandas-docs/stable/indexing.html#indexing-view-versus-copy\n",
      "/Users/vincent_zaballa/anaconda3/lib/python3.5/site-packages/ipykernel/__main__.py:22: SettingWithCopyWarning: \n",
      "A value is trying to be set on a copy of a slice from a DataFrame\n",
      "\n",
      "See the caveats in the documentation: http://pandas.pydata.org/pandas-docs/stable/indexing.html#indexing-view-versus-copy\n"
     ]
    }
   ],
   "source": [
    "# Setting starttime as the index\n",
    "bike_df.index = bike_df['starttime']\n",
    "bike_df = bike_df.sort_index()\n",
    "\n",
    "# Fixing Null Values\n",
    "# Setting NaN values equal to average age\n",
    "bike_df[bike_df['birth year'].notnull() == False] = np.ceil(bike_df['birth year'].mean()).astype(int)\n",
    "\n",
    "# Converting the whole column to int to save space\n",
    "bike_df.loc[:,'birth year'] = bike_df['birth year'].copy().astype(int)\n",
    "bike_df.loc[:,'tripduration'] = bike_df['tripduration'].copy().astype(int)\n",
    "bike_df.loc[:,'end station id'] = bike_df['end station id'].copy().astype(int)\n",
    "bike_df.loc[:,'start station id'] = bike_df['start station id'].copy().astype(int)\n",
    "bike_df.loc[:,'gender'] = bike_df['gender'].copy().astype(int)\n",
    "bike_df.loc[:,'bikeid'] = bike_df['bikeid'].copy().astype(int)\n",
    "\n",
    "# Create a one-time user gender class (unknown) instead of \"Other\" class\n",
    "bike_df.loc[:,'gender'].loc[bike_df['usertype'] == 'Customer'] = 3\n",
    "\n",
    "# Fixing a station's lat/lon\n",
    "bike_df.loc[:, 'end station latitude'][bike_df['end station name'] == 'NYCBS Depot BAL - DYR'] = 40.75903008\n",
    "bike_df.loc[:, 'end station longitude'][bike_df['end station name'] == 'NYCBS Depot BAL - DYR'] = -73.9938587\n",
    "\n",
    "# Deleting anomalous (no data) station\n",
    "bike_df = bike_df[bike_df['end station name'] != 'SSP - Basement']\n",
    "\n",
    "# Removing the missing start station lat/lons\n",
    "bike_df = bike_df[bike_df['start station longitude'] != 0]\n",
    "\n",
    "# Creating distance travelled\n",
    "# Distance travelled - vectorized\n",
    "bike_df['LAT_start_rad'], bike_df['LON_start_rad'] = np.radians(bike_df['start station latitude']), np.radians(bike_df['start station longitude'])\n",
    "bike_df['LAT_end_rad'], bike_df['LON_end_rad'] = np.radians(bike_df['end station latitude']), np.radians(bike_df['end station longitude'])\n",
    "bike_df['dLON'] = bike_df['LON_end_rad'] - bike_df['LON_start_rad']\n",
    "bike_df['dLAT'] = bike_df['LAT_end_rad'] - bike_df['LAT_start_rad']\n",
    "bike_df['distance_miles'] = 3961 * 2 * np.arcsin(np.sqrt(\n",
    "    np.sin(bike_df['dLAT']/2)**2 + np.cos(bike_df['LAT_start_rad']) * np.cos(bike_df['LAT_end_rad']) * np.sin(bike_df['dLON']/2)**2\n",
    "))\n",
    "del bike_df['LON_start_rad'], bike_df['LAT_start_rad'], bike_df['LAT_end_rad'], bike_df['LON_end_rad'], bike_df['dLON'], bike_df['dLAT']\n",
    "\n",
    "\n",
    "# Average velocity - Assuming they went in a straight line and were moving the entire time...\n",
    "bike_df['speed_miles/hour'] = bike_df['distance_miles'] / (bike_df['tripduration']/3600)\n",
    "\n",
    "# deleting max speed data error (trip duration way too long)\n",
    "bike_df = bike_df.loc[bike_df['speed_miles/hour'] != bike_df['speed_miles/hour'].max()]"
   ]
  },
  {
   "cell_type": "code",
   "execution_count": 5,
   "metadata": {},
   "outputs": [
    {
     "name": "stdout",
     "output_type": "stream",
     "text": [
      "Number of Days (leap year!):  366\n"
     ]
    }
   ],
   "source": [
    "# Age to use as possible feature\n",
    "bike_df['age'] = 2017 - bike_df.loc[:,'birth year']\n",
    "\n",
    "# Simplify by making a univariate, total bike counts, dataframe\n",
    "total_DayCounts_df = bike_df.resample('D').apply({'bikeid':'count'})\n",
    "print('Number of Days (leap year!): ',len(total_DayCounts_df))\n",
    "total_DayCounts_df.columns = ['ride_count']"
   ]
  },
  {
   "cell_type": "markdown",
   "metadata": {},
   "source": [
    "Just as a review, here is the daily number of trips."
   ]
  },
  {
   "cell_type": "code",
   "execution_count": 7,
   "metadata": {},
   "outputs": [
    {
     "data": {
      "text/plain": [
       "<matplotlib.text.Text at 0x11c45dfd0>"
      ]
     },
     "execution_count": 7,
     "metadata": {},
     "output_type": "execute_result"
    },
    {
     "data": {
      "image/png": "[encoded data removed]",
      "text/plain": [
       "<matplotlib.figure.Figure at 0x11c2dd278>"
      ]
     },
     "metadata": {},
     "output_type": "display_data"
    }
   ],
   "source": [
    "total_DayCounts_df.rename(columns={'ride_count': 'Daily Number of Trips'}).plot()\n",
    "plt.legend(loc='best', fontsize=12)\n",
    "plt.xlabel('Month')\n",
    "plt.ylabel('Number of Trips')\n",
    "plt.title('Number of Trips per Day in 2016', fontsize=18)"
   ]
  },
  {
   "cell_type": "markdown",
   "metadata": {},
   "source": [
    "## Autocorrelation Function (ACF)\n",
    "Now, I'll plot the autocorrelation of this time series data to better understand if there are any signals that are statistically significant."
   ]
  },
  {
   "cell_type": "code",
   "execution_count": 28,
   "metadata": {},
   "outputs": [
    {
     "data": {
      "text/plain": [
       "<matplotlib.lines.Line2D at 0x181ca6ef0>"
      ]
     },
     "execution_count": 28,
     "metadata": {},
     "output_type": "execute_result"
    },
    {
     "data": {
      "image/png": "[encoded data removed]",
      "text/plain": [
       "<matplotlib.figure.Figure at 0x1751af438>"
      ]
     },
     "metadata": {},
     "output_type": "display_data"
    }
   ],
   "source": [
    "from statsmodels.tsa.stattools import acf\n",
    "acf_result = acf(total_DayCounts_df, nlags=200)\n",
    "\n",
    "plt.plot(acf_result)\n",
    "plt.axhline(y=0, linestyle='--')\n",
    "plt.axhline(y=-1.96/np.sqrt(len(total_DayCounts_df)),linestyle='--')\n",
    "plt.axhline(y=1.96/np.sqrt(len(total_DayCounts_df)),linestyle='--')"
   ]
  },
  {
   "cell_type": "markdown",
   "metadata": {},
   "source": [
    "According to this ACF, it looks like everything is relevant, as is signified by the significance lines at y=1.96. However, we know this not to be the case...\n",
    "Remember, at x=0 means that each data point correlates with itself, equally.\n",
    "\n",
    "Autocorrelation is really looking for internal structure. There is an obvious trend in the original data, plotted before the ACF figure, that needs to be taken into account.\n",
    "\n",
    "Now, I want to de-trend the data. This can be done in a variety of manners, such as applying a log transformation, local smoothing (the red smoothed line from the rolling window), or even a linear regression of the general trend. Each has its strengths and weaknesses, and place of use.\n",
    "\n",
    "The goal of this is getting to **stationarity**. We want the variance and the mean to be fairly stable. Remember the individual stations? They all had very different variances and means.\n",
    "\n",
    "The ACF is a good diagnostic to determine what kind of model we want to use to predict future events. "
   ]
  },
  {
   "cell_type": "markdown",
   "metadata": {},
   "source": [
    "## Pre-prediction Munging and Stationarity\n",
    "Next is munging in order to get the data into a format suitable for an ARIMA model.\n",
    "\n",
    "To use an ARIMA model, one of the most inclusive, general, and powerful ways of predicting future events, you need stationarity.\n",
    "\n",
    "Stationarity:\n",
    "- Constant mean\n",
    "- Constant variance\n",
    "- Constant autocorrelation\n",
    "\n",
    "First method to try and create a stationary time series: Differencing. This can handle both the trend and seasonality of some datasets.\n",
    "\n",
    "Other methods: Moving Average and Linear Regression. Calculating the moving average and subtracting that from the original dataset can be computationally taxing, but it is a very accurate measure. Linear regression is direct in its application, but is worse overall because there is still a sinusoidal trend in the data.\n",
    "\n",
    "### Seasonality\n",
    "There is additive and multiplicative seasonality. The simplest way to remove seasonality is to find the average de-trended values for a season... (how do you distinguish seasons?). However, the more common use is a loess, which is locally weighted scatterplot smoothing. \n",
    "\n",
    "To use loess method:\n",
    "- Window of specified width is placed over the data\n",
    "- A weighted regression line or curve is fitted to the data, with points closest to the center of the curve having greatest weight\n",
    "- Weighting is reduced on points farthest from regression line/curve and calculation is rerun several times\n",
    "    - This yields one point on loess curve\n",
    "    - Helps reduce impact of outliers\n",
    "    - Computationally taxing\n",
    "    \n",
    "## Testing Stationarity\n",
    "Once I think I have a stationary dataset, I need to test that assumption with the Dickey-Fuller Test. This tests the null hypothesis of whether a unit root is present in an autoregressive model. Basically testing whether p=1.\n",
    "\n",
    "$y_t = py_{t-1} + u_t$\n",
    "\n",
    "The test gives back **several different values** to help assess significance with standard p-value reasoning. The basic intuition is that *p* having a unit value means it is not stationary.\n",
    "\n",
    "# Forecasting\n",
    "Thinking about Autoregressive Integrative Moving Average (ARIMA) models. Here are some of the components:\n",
    "\n",
    "**Moving Average (MA)**\n",
    "\n",
    "Takes the form:\n",
    "\n",
    "$X_t = \\mu + \\epsilon_t + \\theta_{1}\\epsilon_{t-1} + \\cdots + \\theta_{q}\\epsilon_{t-q}$\n",
    "\n",
    "Where $\\mu$ is the mean of the series, $\\theta$ are parameters, and $\\theta_q$ is not zero.\n",
    "\n",
    "This is a stationary process regadless the parameter ($\\theta$) values.\n",
    "\n",
    "**Autoregressive Process (AR)**\n",
    "\n",
    "Takes the form:\n",
    "\n",
    "$X_t = \\phi_1X_{t-1} + \\cdots + \\phi_pX_{t-p} + \\epsilon_t$\n",
    "\n",
    "This is a stationary process if $abs(\\phi) < 1$\n",
    "\n",
    "This is saying your value at a particular time depends on your past values. It's kind of like regressing on yourself.\n",
    "\n",
    "**Differencing (I)**\n",
    "\n",
    "This is the differencing from trying to detrend the data. The 'I' is optional, as there are also ARMA models that exclude it, but it can be seen as record-keeping.\n",
    "\n",
    "## Stationarity\n",
    "Remember, the time series must be stationary in order for an ARIMA model to work. If it cannot be made stationary, then an ARIMA model cannot be used. ARIMA models can be seen as a combination of signal and noise, where we want to extract the signal to produce future predictions.\n",
    "\n",
    "## Applying the Appropriate ARIMA Model\n",
    "To determine what ARIMA model to use, I'll plot the data, the ACF, and PACF. I'll use the plots to determine how to detrend the data. After that, most software will use a maximum likelihood estimation to determine the appropriate ARIMA parameters. This can include an AIC and BIC. \n",
    "- Use PACF for AR model diagnostics\n",
    "- Use ACF for MA model diagnostics\n",
    "\n",
    "If it's an AR(1) process, you can only get the next set of observations, so watch out for this. However, the higher the order, the more likely you're overfitting your data.\n",
    "\n",
    "If a basic ARIMA model does not work very well for the data, then it is possible to go to a seasonal ARIMA model, where the seasonality is measured and labeled, and the autoregressive term is improved. Info in Aileen Nielsen's video."
   ]
  },
  {
   "cell_type": "code",
   "execution_count": null,
   "metadata": {
    "collapsed": true
   },
   "outputs": [],
   "source": []
  },
  {
   "cell_type": "code",
   "execution_count": null,
   "metadata": {
    "collapsed": true
   },
   "outputs": [],
   "source": []
  },
  {
   "cell_type": "code",
   "execution_count": null,
   "metadata": {
    "collapsed": true
   },
   "outputs": [],
   "source": []
  },
  {
   "cell_type": "code",
   "execution_count": null,
   "metadata": {
    "collapsed": true
   },
   "outputs": [],
   "source": []
  },
  {
   "cell_type": "code",
   "execution_count": null,
   "metadata": {
    "collapsed": true
   },
   "outputs": [],
   "source": []
  },
  {
   "cell_type": "code",
   "execution_count": null,
   "metadata": {
    "collapsed": true
   },
   "outputs": [],
   "source": []
  },
  {
   "cell_type": "code",
   "execution_count": null,
   "metadata": {
    "collapsed": true
   },
   "outputs": [],
   "source": []
  },
  {
   "cell_type": "code",
   "execution_count": null,
   "metadata": {
    "collapsed": true
   },
   "outputs": [],
   "source": []
  },
  {
   "cell_type": "markdown",
   "metadata": {},
   "source": [
    "## Dynamic Time Warping (DTW)\n",
    "Can be used to measure how similar some of the demands are for each station..."
   ]
  },
  {
   "cell_type": "code",
   "execution_count": null,
   "metadata": {
    "collapsed": true
   },
   "outputs": [],
   "source": []
  }
 ],
 "metadata": {
  "kernelspec": {
   "display_name": "Python [conda root]",
   "language": "python",
   "name": "conda-root-py"
  },
  "language_info": {
   "codemirror_mode": {
    "name": "ipython",
    "version": 3
   },
   "file_extension": ".py",
   "mimetype": "text/x-python",
   "name": "python",
   "nbconvert_exporter": "python",
   "pygments_lexer": "ipython3",
   "version": "3.5.3"
  }
 },
 "nbformat": 4,
 "nbformat_minor": 2
}
